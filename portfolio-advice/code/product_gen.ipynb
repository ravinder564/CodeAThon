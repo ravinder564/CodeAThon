{
 "cells": [
  {
   "cell_type": "code",
   "execution_count": 1,
   "metadata": {},
   "outputs": [],
   "source": [
    "import pandas as pd\n",
    "from faker import Faker\n",
    "import json            # To create a json file                 \n",
    "from random import randint      # For student id \n",
    "from randstr import randstr\n",
    "from random import seed\n",
    "from random import gauss\n",
    "import csv"
   ]
  },
  {
   "cell_type": "code",
   "execution_count": 2,
   "metadata": {},
   "outputs": [],
   "source": [
    "from faker.providers import BaseProvider\n",
    "\n",
    "\n",
    "class FundProvider(BaseProvider):\n",
    "\n",
    "    __provider__ = 'fund'\n",
    "    __lang___ = 'en_US'\n",
    "\n",
    "    funds = ['American Funds', 'Alliance Bernstein', 'Aberdeen', 'Blackrock', 'Blackstone', 'Capital Group', 'ClearBridge Investments', 'Allianz',\n",
    "               'EverCore', 'Earnest Partners','Geneva Investments', 'Ziegler', 'Newton', 'Principal', 'Prudential', 'Penn Capital', 'Phoenix', \n",
    "               'Riverfront', 'Community Capital', 'StoneBridge', 'Sovereign', 'Symphony', 'T Rowe Price', 'Thompson Siegel','Tamarack','US Global',\n",
    "               'Van Kampen','Westchester Capital','Winslow','Zacks Investment Management','Abbey','Thomas Partners','Snow Capital','Deutsche',\n",
    "               'Reinhart Partners','Deutsche','Columbia', 'Eaton Vance','Dreyfus','Fidelity','First Trust', 'Goldman Sachs','Guggenheim',\n",
    "              'Hartford','Harbor', 'iShares','Invesco','Ivy','JP Morgan','Lazard','Lord Abbett','Legg Mason','Morgan Stanley','Northern Trust',\n",
    "              'Nuveen','Oakmark','Oppenheimer','Parametric','PIMCO','Pioneer Investments','ProShares','Putnam','Templeton','WisdomTree']\n",
    "\n",
    "    def fund(self):\n",
    "        return self.random_element(self.funds)"
   ]
  },
  {
   "cell_type": "code",
   "execution_count": 3,
   "metadata": {},
   "outputs": [],
   "source": [
    "fake = Faker()\n",
    "seed(1)\n",
    "fake.add_provider(FundProvider)"
   ]
  },
  {
   "cell_type": "code",
   "execution_count": 10,
   "metadata": {},
   "outputs": [],
   "source": [
    "def generate_data(x): \n",
    "  \n",
    "    # dictionary\n",
    "    product_data ={} \n",
    "    for i in range(0, x): \n",
    "        product_data[i]={} \n",
    "        product_data[i]['product_id']= randint(1, 10000) \n",
    "        product_data[i]['product_name']= fake.fund() + \" Fund \" + str(randint(1,10))\n",
    "        product_data[i]['ticker']= randstr(5).upper()\n",
    "        product_data[i]['risk_profile']=randint(1,5)\n",
    "        product_data[i]['one_year_return']=gauss(0, 10)\n",
    "        product_data[i]['three_year_return']=gauss(0, 10)\n",
    "        product_data[i]['five_year_return']=gauss(0, 10)\n",
    "        product_data[i]['seven_year_return']=gauss(0, 10)\n",
    "        product_data[i]['return_2011']=gauss(0, 10)\n",
    "        product_data[i]['return_2012']=gauss(0, 10)\n",
    "        product_data[i]['return_2013']=gauss(0, 10)\n",
    "        product_data[i]['return_2014']=gauss(0, 10)\n",
    "        product_data[i]['return_2015']=gauss(0, 10)\n",
    "        product_data[i]['return_2016']=gauss(0, 10)\n",
    "        product_data[i]['return_2017']=gauss(0, 10)\n",
    "        product_data[i]['return_2018']=gauss(0, 10)\n",
    "        product_data[i]['return_2019']=gauss(0, 10)\n",
    "        product_data[i]['alpha']=gauss(0, 1)\n",
    "        product_data[i]['beta']=gauss(0, 1)\n",
    "        \n",
    "    # create a dataframe\n",
    "    df = pd.DataFrame(product_data)\n",
    "    # transpose to get the columns from rows\n",
    "    df = df.transpose()\n",
    "    df.set_index('product_id')\n",
    "    #print(df)\n",
    "    # write the csv\n",
    "    df.to_csv('product.csv')\n",
    "    "
   ]
  },
  {
   "cell_type": "code",
   "execution_count": 11,
   "metadata": {
    "scrolled": false
   },
   "outputs": [],
   "source": [
    "def main(): \n",
    "  \n",
    "    # Enter number of products \n",
    "    number_of_products = 1000  \n",
    "    generate_data(number_of_products) \n",
    "    \n",
    "main() \n"
   ]
  },
  {
   "cell_type": "code",
   "execution_count": null,
   "metadata": {},
   "outputs": [],
   "source": []
  }
 ],
 "metadata": {
  "kernelspec": {
   "display_name": "Python 3",
   "language": "python",
   "name": "python3"
  },
  "language_info": {
   "codemirror_mode": {
    "name": "ipython",
    "version": 3
   },
   "file_extension": ".py",
   "mimetype": "text/x-python",
   "name": "python",
   "nbconvert_exporter": "python",
   "pygments_lexer": "ipython3",
   "version": "3.7.4"
  },
  "toc": {
   "base_numbering": 1,
   "nav_menu": {},
   "number_sections": true,
   "sideBar": true,
   "skip_h1_title": false,
   "title_cell": "Table of Contents",
   "title_sidebar": "Contents",
   "toc_cell": false,
   "toc_position": {},
   "toc_section_display": true,
   "toc_window_display": false
  }
 },
 "nbformat": 4,
 "nbformat_minor": 2
}
