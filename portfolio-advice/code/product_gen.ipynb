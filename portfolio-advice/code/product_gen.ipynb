{
 "cells": [
  {
   "cell_type": "code",
   "execution_count": 1,
   "metadata": {},
   "outputs": [],
   "source": [
    "import pandas as pd\n",
    "from faker import Faker\n",
    "import json            # To create a json file                 \n",
    "from random import randint      # For student id \n",
    "from randstr import randstr\n",
    "from random import seed\n",
    "from random import gauss\n",
    "import csv"
   ]
  },
  {
   "cell_type": "code",
   "execution_count": 2,
   "metadata": {},
   "outputs": [],
   "source": [
    "fake = Faker()\n",
    "seed(1)"
   ]
  },
  {
   "cell_type": "code",
   "execution_count": 14,
   "metadata": {},
   "outputs": [],
   "source": [
    "def generate_data(x): \n",
    "  \n",
    "    # dictionary\n",
    "    product_data ={} \n",
    "    for i in range(0, x): \n",
    "        product_data[i]={} \n",
    "        product_data[i]['product_id']= randint(1, 10000) \n",
    "        product_data[i]['product_name']= fake.name() \n",
    "        product_data[i]['ticker']= randstr(5)\n",
    "        product_data[i]['risk_profile']=randint(1,5)\n",
    "        product_data[i]['1_year_return']=gauss(0, 10)\n",
    "        product_data[i]['3_year_return']=gauss(0, 10)\n",
    "        product_data[i]['5_year_return']=gauss(0, 10)\n",
    "        product_data[i]['7_year_return']=gauss(0, 10)\n",
    "        product_data[i]['2011_return']=gauss(0, 10)\n",
    "        product_data[i]['2012_return']=gauss(0, 10)\n",
    "        product_data[i]['2013_return']=gauss(0, 10)\n",
    "        product_data[i]['2014_return']=gauss(0, 10)\n",
    "        product_data[i]['2015_return']=gauss(0, 10)\n",
    "        product_data[i]['2016_return']=gauss(0, 10)\n",
    "        product_data[i]['2017_return']=gauss(0, 10)\n",
    "        product_data[i]['2018_return']=gauss(0, 10)\n",
    "        product_data[i]['2019_return']=gauss(0, 10)\n",
    "        product_data[i]['2015_return']=gauss(0, 10)\n",
    "        product_data[i]['alpha']=gauss(0, 1)\n",
    "        product_data[i]['beta']=gauss(0, 1)\n",
    "        \n",
    "    # create a dataframe\n",
    "    df = pd.DataFrame(product_data)\n",
    "    # transpose to get the columns from rows\n",
    "    df = df.transpose()\n",
    "    df.set_index('product_id')\n",
    "    #print(df)\n",
    "    # write the csv\n",
    "    df.to_csv('product.csv')\n",
    "    "
   ]
  },
  {
   "cell_type": "code",
   "execution_count": 15,
   "metadata": {
    "scrolled": false
   },
   "outputs": [],
   "source": [
    "def main(): \n",
    "  \n",
    "    # Enter number of products \n",
    "    number_of_products = 1000  \n",
    "    generate_data(number_of_products) \n",
    "    \n",
    "main() \n"
   ]
  },
  {
   "cell_type": "code",
   "execution_count": null,
   "metadata": {},
   "outputs": [],
   "source": []
  }
 ],
 "metadata": {
  "kernelspec": {
   "display_name": "Python 3",
   "language": "python",
   "name": "python3"
  },
  "language_info": {
   "codemirror_mode": {
    "name": "ipython",
    "version": 3
   },
   "file_extension": ".py",
   "mimetype": "text/x-python",
   "name": "python",
   "nbconvert_exporter": "python",
   "pygments_lexer": "ipython3",
   "version": "3.7.3"
  },
  "toc": {
   "base_numbering": 1,
   "nav_menu": {},
   "number_sections": true,
   "sideBar": true,
   "skip_h1_title": false,
   "title_cell": "Table of Contents",
   "title_sidebar": "Contents",
   "toc_cell": false,
   "toc_position": {},
   "toc_section_display": true,
   "toc_window_display": false
  }
 },
 "nbformat": 4,
 "nbformat_minor": 2
}
