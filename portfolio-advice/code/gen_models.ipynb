{
 "cells": [
  {
   "cell_type": "code",
   "execution_count": 1,
   "metadata": {},
   "outputs": [],
   "source": [
    "import pandas as pd\n",
    "import random\n",
    "from random import randint\n",
    "from faker import Faker\n",
    "from pandas_datareader import data as web\n",
    "from yahoo_fin.stock_info import *\n",
    "import numpy as np"
   ]
  },
  {
   "cell_type": "code",
   "execution_count": 2,
   "metadata": {},
   "outputs": [],
   "source": [
    "model_holding = pd.read_csv('model_holdings.csv', index_col=0)"
   ]
  },
  {
   "cell_type": "code",
   "execution_count": 3,
   "metadata": {},
   "outputs": [],
   "source": [
    "from faker.providers import BaseProvider\n",
    "\n",
    "\n",
    "class StrategyProvider(BaseProvider):\n",
    "\n",
    "    __provider__ = 'strategy'\n",
    "    __lang___ = 'en_US'\n",
    "\n",
    "    strategy_name = ['Income','Aggressive','Capital Appreciation','Speculation']\n",
    "    prim_fin_need = ['Wealth Accumulation/Investment','Retirement','Major Purchase/Expense','Education Planning',\n",
    "                     'Current Income','Health Care/Long Term Care','Estate/Legacy Planning','Charitable']\n",
    "    inv_horizon = ['Immediate','Less than 2 Years','2 to 5 Years','6 to 10 Years','11 to 20 Years','Over 20 Years']\n",
    "    liquidity_need = ['Lump Sum','Less than 2 Years','2 to 5 Years','6 to 10 Years','11 to 20 Years','Over 20 Years']\n",
    "    #invest_obj = []\n",
    "    #risk_tolerance = []\n",
    "\n",
    "    def strategyName(self):\n",
    "        return self.random_element(self.strategy_name)\n",
    "    def investObj(self, invest_obj):\n",
    "        return self.random_element(invest_obj)\n",
    "    def riskTolerance(self, risk_tolerance):\n",
    "        return self.random_element(risk_tolerance)\n",
    "    def primFinNeed(self):\n",
    "        return self.random_element(self.prim_fin_need)\n",
    "    def invHorizon(self):\n",
    "        return self.random_element(self.inv_horizon)\n",
    "    def liquidityNeed(self):\n",
    "        return self.random_element(self.liquidity_need)"
   ]
  },
  {
   "cell_type": "code",
   "execution_count": 4,
   "metadata": {},
   "outputs": [],
   "source": [
    "fake = Faker()\n",
    "fake.add_provider(StrategyProvider)"
   ]
  },
  {
   "cell_type": "code",
   "execution_count": 16,
   "metadata": {},
   "outputs": [],
   "source": [
    "def computeModelVolatility(model_id):\n",
    "    holding = model_holding[model_holding.model_id.eq(model_id)]\n",
    "    price = pd.DataFrame()\n",
    "    start_date = '01/01/2019'\n",
    "    end_date = '01/01/2020'\n",
    "    \n",
    "    for stock in holding.product_id.unique().tolist():\n",
    "        try:\n",
    "            price[stock] = get_data(stock , start_date , end_date)['adjclose'].dropna()\n",
    "        except Exception:\n",
    "            index = pd.date_range(start_date , end_date)\n",
    "            price[stock] = pd.DataFrame(index=index, columns=['adjclose'])\n",
    "            price[stock] = price.fillna(0.0)\n",
    "\n",
    "    d_returns = price.pct_change()  \n",
    "    cov_matrix_d = d_returns.cov()\n",
    "    cov_matrix_a = cov_matrix_d * 252\n",
    "        \n",
    "    weights = holding[['percent']].to_numpy() # get weights\n",
    "    weights = weights/100\n",
    "\n",
    "    # calculate the variance and risk of the portfolo\n",
    "    port_variance = np.dot(weights.T, np.dot(cov_matrix_a, weights))\n",
    "    port_volatility = np.sqrt(np.dot(weights.T, np.dot(cov_matrix_a, weights)))\n",
    "    \n",
    "    percent_var = (np.round(port_variance, 4) * 100)\n",
    "    percent_vols = (np.round(port_volatility, 4) * 100)\n",
    "    \n",
    "    return percent_vols.item(0)"
   ]
  },
  {
   "cell_type": "code",
   "execution_count": 17,
   "metadata": {
    "scrolled": false
   },
   "outputs": [
    {
     "data": {
      "text/plain": [
       "0.0"
      ]
     },
     "execution_count": 17,
     "metadata": {},
     "output_type": "execute_result"
    }
   ],
   "source": [
    "computeModelVolatility(3019)"
   ]
  },
  {
   "cell_type": "code",
   "execution_count": 18,
   "metadata": {},
   "outputs": [
    {
     "ename": "ValueError",
     "evalue": "shapes (11,11) and (12,1) not aligned: 11 (dim 1) != 12 (dim 0)",
     "output_type": "error",
     "traceback": [
      "\u001b[1;31m---------------------------------------------------------------------------\u001b[0m",
      "\u001b[1;31mValueError\u001b[0m                                Traceback (most recent call last)",
      "\u001b[1;32m<ipython-input-18-e6eb045299e5>\u001b[0m in \u001b[0;36m<module>\u001b[1;34m\u001b[0m\n\u001b[0;32m     42\u001b[0m     \u001b[0mrisk_profile\u001b[0m \u001b[1;33m=\u001b[0m \u001b[0mint\u001b[0m\u001b[1;33m(\u001b[0m\u001b[0mrisk_profile\u001b[0m\u001b[1;33m)\u001b[0m\u001b[1;33m\u001b[0m\u001b[1;33m\u001b[0m\u001b[0m\n\u001b[0;32m     43\u001b[0m \u001b[1;33m\u001b[0m\u001b[0m\n\u001b[1;32m---> 44\u001b[1;33m     \u001b[0mvolatility\u001b[0m \u001b[1;33m=\u001b[0m \u001b[0mcomputeModelVolatility\u001b[0m\u001b[1;33m(\u001b[0m\u001b[0mmodel_id\u001b[0m\u001b[1;33m)\u001b[0m\u001b[1;33m\u001b[0m\u001b[1;33m\u001b[0m\u001b[0m\n\u001b[0m\u001b[0;32m     45\u001b[0m \u001b[1;33m\u001b[0m\u001b[0m\n\u001b[0;32m     46\u001b[0m     myList.append([model_id,invest_obj_dict[invest_obj_most_imp] + \" Strategy \" + str(i),fake.name(), volatility, risk_profile, \n",
      "\u001b[1;32m<ipython-input-16-971ad884356d>\u001b[0m in \u001b[0;36mcomputeModelVolatility\u001b[1;34m(model_id)\u001b[0m\n\u001b[0;32m     21\u001b[0m \u001b[1;33m\u001b[0m\u001b[0m\n\u001b[0;32m     22\u001b[0m     \u001b[1;31m# calculate the variance and risk of the portfolo\u001b[0m\u001b[1;33m\u001b[0m\u001b[1;33m\u001b[0m\u001b[1;33m\u001b[0m\u001b[0m\n\u001b[1;32m---> 23\u001b[1;33m     \u001b[0mport_variance\u001b[0m \u001b[1;33m=\u001b[0m \u001b[0mnp\u001b[0m\u001b[1;33m.\u001b[0m\u001b[0mdot\u001b[0m\u001b[1;33m(\u001b[0m\u001b[0mweights\u001b[0m\u001b[1;33m.\u001b[0m\u001b[0mT\u001b[0m\u001b[1;33m,\u001b[0m \u001b[0mnp\u001b[0m\u001b[1;33m.\u001b[0m\u001b[0mdot\u001b[0m\u001b[1;33m(\u001b[0m\u001b[0mcov_matrix_a\u001b[0m\u001b[1;33m,\u001b[0m \u001b[0mweights\u001b[0m\u001b[1;33m)\u001b[0m\u001b[1;33m)\u001b[0m\u001b[1;33m\u001b[0m\u001b[1;33m\u001b[0m\u001b[0m\n\u001b[0m\u001b[0;32m     24\u001b[0m     \u001b[0mport_volatility\u001b[0m \u001b[1;33m=\u001b[0m \u001b[0mnp\u001b[0m\u001b[1;33m.\u001b[0m\u001b[0msqrt\u001b[0m\u001b[1;33m(\u001b[0m\u001b[0mnp\u001b[0m\u001b[1;33m.\u001b[0m\u001b[0mdot\u001b[0m\u001b[1;33m(\u001b[0m\u001b[0mweights\u001b[0m\u001b[1;33m.\u001b[0m\u001b[0mT\u001b[0m\u001b[1;33m,\u001b[0m \u001b[0mnp\u001b[0m\u001b[1;33m.\u001b[0m\u001b[0mdot\u001b[0m\u001b[1;33m(\u001b[0m\u001b[0mcov_matrix_a\u001b[0m\u001b[1;33m,\u001b[0m \u001b[0mweights\u001b[0m\u001b[1;33m)\u001b[0m\u001b[1;33m)\u001b[0m\u001b[1;33m)\u001b[0m\u001b[1;33m\u001b[0m\u001b[1;33m\u001b[0m\u001b[0m\n\u001b[0;32m     25\u001b[0m \u001b[1;33m\u001b[0m\u001b[0m\n",
      "\u001b[1;32m<__array_function__ internals>\u001b[0m in \u001b[0;36mdot\u001b[1;34m(*args, **kwargs)\u001b[0m\n",
      "\u001b[1;31mValueError\u001b[0m: shapes (11,11) and (12,1) not aligned: 11 (dim 1) != 12 (dim 0)"
     ]
    }
   ],
   "source": [
    "cols=['model_id','model_name','account_name','volatility','risk_profile','investment_amt','inv_obj_most_imp','inv_obj_very_imp',\n",
    "      'inv_obj_some_imp','inv_obj_least_imp','risk_tolerance','primary_fin_need','inv_horizon','liquidity_need']\n",
    "models = pd.DataFrame(columns=cols) \n",
    "myList = []\n",
    "i = 1;\n",
    "for model_id in model_holding.model_id.unique().tolist():\n",
    "    #invest_obj = ['Income','Aggressive Income','Capital Appreciation','Speculation']\n",
    "    invest_obj_dict = {\n",
    "        1:'Income',\n",
    "        2:'Aggressive Income',\n",
    "        3:'Capital Appreciation',\n",
    "        4:'Speculation'\n",
    "    }\n",
    "    invest_obj = [1,2,3,4]\n",
    "    invest_obj_most_imp = fake.investObj(invest_obj)\n",
    "    invest_obj.remove(invest_obj_most_imp)\n",
    "    invest_obj.append(0)\n",
    "\n",
    "    invest_obj_very_imp = fake.investObj(invest_obj)\n",
    "    invest_obj.remove(invest_obj_very_imp)\n",
    "    invest_obj.append(0)\n",
    "    \n",
    "    invest_obj_some_imp = fake.investObj(invest_obj)\n",
    "    invest_obj.remove(invest_obj_some_imp)\n",
    "    invest_obj.append(0)\n",
    "    \n",
    "    invest_obj_least_imp = fake.investObj(invest_obj)\n",
    "    #risk_tolerance = ['Moderate','Aggressive']\n",
    "    risk_tolerance = [1,2]\n",
    "    if(invest_obj_most_imp == 5):\n",
    "        risk_tolerance.remove(1)\n",
    "        risk_profile = 5\n",
    "    if(invest_obj_most_imp == 1):\n",
    "        risk_tolerance.remove(2)\n",
    "        risk_tolerance.append(0)\n",
    "    risk_tol = fake.riskTolerance(risk_tolerance)\n",
    "    \n",
    "    #=SUM(D2*$B$2/4,E2*$B$3/4/4,H2*2/3)\n",
    "    \n",
    "    risk_profile = (invest_obj_most_imp * 5/4) + (invest_obj_very_imp * 1/4) + (risk_tol * 2/3);\n",
    "    \n",
    "    risk_profile = int(risk_profile)\n",
    "    \n",
    "    volatility = computeModelVolatility(model_id)\n",
    "    \n",
    "    myList.append([model_id,invest_obj_dict[invest_obj_most_imp] + \" Strategy \" + str(i),fake.name(), volatility, risk_profile, \n",
    "                   randint(10000,1000000), invest_obj_most_imp,invest_obj_very_imp,invest_obj_some_imp,invest_obj_least_imp,\n",
    "                   risk_tol,fake.primFinNeed(),fake.invHorizon(),fake.liquidityNeed()])\n",
    "    i = i + 1\n",
    "df = pd.DataFrame(myList, columns=cols)\n",
    "models=models.append(df, sort=True)\n",
    "models.to_csv('models.csv')"
   ]
  },
  {
   "cell_type": "code",
   "execution_count": null,
   "metadata": {},
   "outputs": [],
   "source": []
  }
 ],
 "metadata": {
  "kernelspec": {
   "display_name": "Python 3",
   "language": "python",
   "name": "python3"
  },
  "language_info": {
   "codemirror_mode": {
    "name": "ipython",
    "version": 3
   },
   "file_extension": ".py",
   "mimetype": "text/x-python",
   "name": "python",
   "nbconvert_exporter": "python",
   "pygments_lexer": "ipython3",
   "version": "3.7.3"
  },
  "toc": {
   "base_numbering": 1,
   "nav_menu": {},
   "number_sections": true,
   "sideBar": true,
   "skip_h1_title": false,
   "title_cell": "Table of Contents",
   "title_sidebar": "Contents",
   "toc_cell": false,
   "toc_position": {},
   "toc_section_display": true,
   "toc_window_display": false
  }
 },
 "nbformat": 4,
 "nbformat_minor": 2
}
