{
 "cells": [
  {
   "cell_type": "code",
   "execution_count": 1,
   "metadata": {},
   "outputs": [],
   "source": [
    "import pandas as pd\n",
    "import random\n",
    "import csv\n",
    "import datetime\n",
    "from pandas_datareader import data"
   ]
  },
  {
   "cell_type": "code",
   "execution_count": 2,
   "metadata": {},
   "outputs": [],
   "source": [
    "dataset = pd.read_csv('companylist.csv')"
   ]
  },
  {
   "cell_type": "code",
   "execution_count": 3,
   "metadata": {},
   "outputs": [],
   "source": [
    "dataset = dataset.loc[:, ~dataset.columns.str.contains('^Unnamed')]"
   ]
  },
  {
   "cell_type": "code",
   "execution_count": 4,
   "metadata": {},
   "outputs": [],
   "source": [
    "dataset.drop(['Summary Quote','LastSale','ADR TSO','IPOyear'],axis=1, inplace=True)"
   ]
  },
  {
   "cell_type": "code",
   "execution_count": 5,
   "metadata": {},
   "outputs": [],
   "source": [
    "dataset = dataset[(dataset['MarketCap'] > 0)]"
   ]
  },
  {
   "cell_type": "code",
   "execution_count": 6,
   "metadata": {},
   "outputs": [],
   "source": [
    "def classifyL2(row):\n",
    "    if (row['MarketCap'] >= 10000000000):\n",
    "        val = \"Large Cap\"\n",
    "    elif (row['MarketCap'] < 10000000000) & (row['MarketCap'] >= 2000000000):\n",
    "        val = \"Mid Cap\"\n",
    "    elif (row['MarketCap'] < 2000000000) & (row['MarketCap'] >= 300000000):\n",
    "        val = \"Small Cap\"\n",
    "    else:\n",
    "        val = \"Micro Cap\"\n",
    "    return val"
   ]
  },
  {
   "cell_type": "code",
   "execution_count": 7,
   "metadata": {},
   "outputs": [],
   "source": [
    "dataset['L2'] = dataset.apply(classifyL2, axis=1)"
   ]
  },
  {
   "cell_type": "code",
   "execution_count": 8,
   "metadata": {},
   "outputs": [
    {
     "data": {
      "text/plain": [
       "Micro Cap    1628\n",
       "Small Cap     954\n",
       "Mid Cap       476\n",
       "Large Cap     215\n",
       "Name: L2, dtype: int64"
      ]
     },
     "execution_count": 8,
     "metadata": {},
     "output_type": "execute_result"
    }
   ],
   "source": [
    "dataset['L2'].value_counts()"
   ]
  },
  {
   "cell_type": "code",
   "execution_count": 9,
   "metadata": {},
   "outputs": [
    {
     "data": {
      "text/html": [
       "<div>\n",
       "<style scoped>\n",
       "    .dataframe tbody tr th:only-of-type {\n",
       "        vertical-align: middle;\n",
       "    }\n",
       "\n",
       "    .dataframe tbody tr th {\n",
       "        vertical-align: top;\n",
       "    }\n",
       "\n",
       "    .dataframe thead th {\n",
       "        text-align: right;\n",
       "    }\n",
       "</style>\n",
       "<table border=\"1\" class=\"dataframe\">\n",
       "  <thead>\n",
       "    <tr style=\"text-align: right;\">\n",
       "      <th></th>\n",
       "      <th>Symbol</th>\n",
       "      <th>Name</th>\n",
       "      <th>MarketCap</th>\n",
       "      <th>Sector</th>\n",
       "      <th>Industry</th>\n",
       "      <th>L2</th>\n",
       "    </tr>\n",
       "  </thead>\n",
       "  <tbody>\n",
       "    <tr>\n",
       "      <td>247</td>\n",
       "      <td>AAPL</td>\n",
       "      <td>Apple Inc.</td>\n",
       "      <td>1.397321e+12</td>\n",
       "      <td>Technology</td>\n",
       "      <td>Computer Manufacturing</td>\n",
       "      <td>Large Cap</td>\n",
       "    </tr>\n",
       "  </tbody>\n",
       "</table>\n",
       "</div>"
      ],
      "text/plain": [
       "    Symbol        Name     MarketCap      Sector                Industry  \\\n",
       "247   AAPL  Apple Inc.  1.397321e+12  Technology  Computer Manufacturing   \n",
       "\n",
       "            L2  \n",
       "247  Large Cap  "
      ]
     },
     "execution_count": 9,
     "metadata": {},
     "output_type": "execute_result"
    }
   ],
   "source": [
    "dataset.loc[dataset['Symbol'].isin(['AAPL'])]"
   ]
  },
  {
   "cell_type": "code",
   "execution_count": 10,
   "metadata": {},
   "outputs": [],
   "source": [
    "dataset['risk_score'] = dataset.apply(lambda row: round(random.uniform(1, 18),2), axis=1)"
   ]
  },
  {
   "cell_type": "code",
   "execution_count": 11,
   "metadata": {},
   "outputs": [
    {
     "data": {
      "text/html": [
       "<div>\n",
       "<style scoped>\n",
       "    .dataframe tbody tr th:only-of-type {\n",
       "        vertical-align: middle;\n",
       "    }\n",
       "\n",
       "    .dataframe tbody tr th {\n",
       "        vertical-align: top;\n",
       "    }\n",
       "\n",
       "    .dataframe thead th {\n",
       "        text-align: right;\n",
       "    }\n",
       "</style>\n",
       "<table border=\"1\" class=\"dataframe\">\n",
       "  <thead>\n",
       "    <tr style=\"text-align: right;\">\n",
       "      <th></th>\n",
       "      <th>Symbol</th>\n",
       "      <th>Name</th>\n",
       "      <th>MarketCap</th>\n",
       "      <th>Sector</th>\n",
       "      <th>Industry</th>\n",
       "      <th>L2</th>\n",
       "      <th>risk_score</th>\n",
       "    </tr>\n",
       "  </thead>\n",
       "  <tbody>\n",
       "    <tr>\n",
       "      <td>0</td>\n",
       "      <td>TXG</td>\n",
       "      <td>10x Genomics, Inc.</td>\n",
       "      <td>8.042693e+09</td>\n",
       "      <td>Capital Goods</td>\n",
       "      <td>Biotechnology: Laboratory Analytical Instruments</td>\n",
       "      <td>Mid Cap</td>\n",
       "      <td>11.27</td>\n",
       "    </tr>\n",
       "    <tr>\n",
       "      <td>1</td>\n",
       "      <td>YI</td>\n",
       "      <td>111, Inc.</td>\n",
       "      <td>1.342119e+08</td>\n",
       "      <td>Health Care</td>\n",
       "      <td>Medical/Nursing Services</td>\n",
       "      <td>Micro Cap</td>\n",
       "      <td>4.55</td>\n",
       "    </tr>\n",
       "    <tr>\n",
       "      <td>2</td>\n",
       "      <td>PIH</td>\n",
       "      <td>1347 Property Insurance Holdings, Inc.</td>\n",
       "      <td>3.428200e+07</td>\n",
       "      <td>Finance</td>\n",
       "      <td>Property-Casualty Insurers</td>\n",
       "      <td>Micro Cap</td>\n",
       "      <td>16.91</td>\n",
       "    </tr>\n",
       "    <tr>\n",
       "      <td>3</td>\n",
       "      <td>PIHPP</td>\n",
       "      <td>1347 Property Insurance Holdings, Inc.</td>\n",
       "      <td>1.869700e+07</td>\n",
       "      <td>Finance</td>\n",
       "      <td>Property-Casualty Insurers</td>\n",
       "      <td>Micro Cap</td>\n",
       "      <td>16.82</td>\n",
       "    </tr>\n",
       "    <tr>\n",
       "      <td>4</td>\n",
       "      <td>TURN</td>\n",
       "      <td>180 Degree Capital Corp.</td>\n",
       "      <td>6.722257e+07</td>\n",
       "      <td>Finance</td>\n",
       "      <td>Finance/Investors Services</td>\n",
       "      <td>Micro Cap</td>\n",
       "      <td>3.21</td>\n",
       "    </tr>\n",
       "  </tbody>\n",
       "</table>\n",
       "</div>"
      ],
      "text/plain": [
       "  Symbol                                    Name     MarketCap         Sector  \\\n",
       "0    TXG                      10x Genomics, Inc.  8.042693e+09  Capital Goods   \n",
       "1     YI                               111, Inc.  1.342119e+08    Health Care   \n",
       "2    PIH  1347 Property Insurance Holdings, Inc.  3.428200e+07        Finance   \n",
       "3  PIHPP  1347 Property Insurance Holdings, Inc.  1.869700e+07        Finance   \n",
       "4   TURN                180 Degree Capital Corp.  6.722257e+07        Finance   \n",
       "\n",
       "                                           Industry         L2  risk_score  \n",
       "0  Biotechnology: Laboratory Analytical Instruments    Mid Cap       11.27  \n",
       "1                          Medical/Nursing Services  Micro Cap        4.55  \n",
       "2                        Property-Casualty Insurers  Micro Cap       16.91  \n",
       "3                        Property-Casualty Insurers  Micro Cap       16.82  \n",
       "4                        Finance/Investors Services  Micro Cap        3.21  "
      ]
     },
     "execution_count": 11,
     "metadata": {},
     "output_type": "execute_result"
    }
   ],
   "source": [
    "dataset.head()"
   ]
  },
  {
   "cell_type": "code",
   "execution_count": 12,
   "metadata": {},
   "outputs": [],
   "source": [
    "from yahoo_fin.stock_info import *\n",
    "import numpy as np"
   ]
  },
  {
   "cell_type": "code",
   "execution_count": 13,
   "metadata": {
    "run_control": {
     "marked": true
    }
   },
   "outputs": [],
   "source": [
    "def getClosePrice(row):\n",
    "    # We would like all available data from 01/01/2000 until 12/31/2016.\n",
    "    #start_date = datetime.datetime.today()\n",
    "    #end_date = datetime.datetime.today()\n",
    "    #print(row['Symbol'])\n",
    "    # User pandas_reader.data.DataReader to load the desired data. As simple as that.\n",
    "    #panel_data = data.DataReader(row['Symbol'], 'yahoo', '2020-01-24') #end_date.strftime('%Y-%m-%d')\n",
    "    info = 0\n",
    "    try:\n",
    "        info = get_live_price(row['Symbol'])\n",
    "    except Exception:\n",
    "        pass\n",
    "    return round(info,4)"
   ]
  },
  {
   "cell_type": "code",
   "execution_count": 25,
   "metadata": {},
   "outputs": [],
   "source": [
    "def computeReturns(row):\n",
    "    return_series = pd.Series([])\n",
    "    try:\n",
    "        quote = data.get_data_yahoo(row['Symbol'],'01/01/2009',interval='d')\n",
    "        #daily_returns = quote['Adj Close'].pct_change()\n",
    "        #monthly_returns = quote['Adj Close'].resample('M').ffill().pct_change()\n",
    "        yearly_returns = quote['Adj Close'].resample('Y').ffill().pct_change()\n",
    "        \n",
    "        return_series = pd.Series([yearly_returns['2019-12-31'],yearly_returns['2018-12-31'],yearly_returns['2017-12-31'],\n",
    "                   yearly_returns['2016-12-31'],yearly_returns['2015-12-31'],yearly_returns['2014-12-31'],\n",
    "                   yearly_returns['2013-12-31'],yearly_returns['2012-12-31'],yearly_returns['2011-12-31'],\n",
    "                   yearly_returns['2010-12-31']\n",
    "                  ])\n",
    "        \n",
    "        #print(return_series)\n",
    "    except Exception:\n",
    "        pass\n",
    "    return return_series"
   ]
  },
  {
   "cell_type": "code",
   "execution_count": 15,
   "metadata": {},
   "outputs": [],
   "source": [
    "def computeVolatility(row): \n",
    "    volatility = 0  \n",
    "    try:\n",
    "        quote = data.get_data_yahoo(row['Symbol'],'01/01/2019',interval='d')\n",
    "       \n",
    "        #Compute logarithmic returns\n",
    "        quote['Log_Ret'] = np.log(quote['Adj Close'] / quote['Adj Close'].shift(1))\n",
    "\n",
    "        # Compute Volatility using the pandas rolling standard deviation function.  Consider 252 trading days in a year\n",
    "        quote['Volatility'] = quote['Log_Ret'].rolling(252).std() * np.sqrt(252)\n",
    "       \n",
    "        volatility = quote['Volatility'].iloc[-1]\n",
    "    except Exception:\n",
    "        pass\n",
    "    return round(volatility,2)"
   ]
  },
  {
   "cell_type": "code",
   "execution_count": 16,
   "metadata": {},
   "outputs": [],
   "source": [
    "#computeVolatility()"
   ]
  },
  {
   "cell_type": "code",
   "execution_count": 17,
   "metadata": {
    "scrolled": false
   },
   "outputs": [],
   "source": [
    "dataset['close_price'] = dataset.apply(getClosePrice,axis=1)"
   ]
  },
  {
   "cell_type": "code",
   "execution_count": 18,
   "metadata": {
    "scrolled": false
   },
   "outputs": [],
   "source": [
    "dataset['risk_score'] = dataset.apply(computeVolatility,axis=1)"
   ]
  },
  {
   "cell_type": "code",
   "execution_count": 26,
   "metadata": {
    "scrolled": false
   },
   "outputs": [],
   "source": [
    "dataset[['return_2019', 'return_2018', 'return_2017','return_2016', 'return_2015', 'return_2014','return_2013', 'return_2012', 'return_2011','return_2010']] = dataset.apply(computeReturns, axis=1)"
   ]
  },
  {
   "cell_type": "code",
   "execution_count": 27,
   "metadata": {},
   "outputs": [],
   "source": [
    "dataset.to_csv('equities.csv')"
   ]
  },
  {
   "cell_type": "code",
   "execution_count": null,
   "metadata": {},
   "outputs": [],
   "source": []
  }
 ],
 "metadata": {
  "kernelspec": {
   "display_name": "Python 3",
   "language": "python",
   "name": "python3"
  },
  "language_info": {
   "codemirror_mode": {
    "name": "ipython",
    "version": 3
   },
   "file_extension": ".py",
   "mimetype": "text/x-python",
   "name": "python",
   "nbconvert_exporter": "python",
   "pygments_lexer": "ipython3",
   "version": "3.7.4"
  },
  "toc": {
   "base_numbering": 1,
   "nav_menu": {},
   "number_sections": true,
   "sideBar": true,
   "skip_h1_title": false,
   "title_cell": "Table of Contents",
   "title_sidebar": "Contents",
   "toc_cell": false,
   "toc_position": {},
   "toc_section_display": true,
   "toc_window_display": false
  }
 },
 "nbformat": 4,
 "nbformat_minor": 2
}
