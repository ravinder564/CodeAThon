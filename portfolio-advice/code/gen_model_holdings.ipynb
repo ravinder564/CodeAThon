{
 "cells": [
  {
   "cell_type": "code",
   "execution_count": 7,
   "metadata": {},
   "outputs": [],
   "source": [
    "import pandas as pd\n",
    "from random import randint"
   ]
  },
  {
   "cell_type": "code",
   "execution_count": 8,
   "metadata": {},
   "outputs": [],
   "source": [
    "dataset = pd.read_csv('equities.csv')"
   ]
  },
  {
   "cell_type": "code",
   "execution_count": 12,
   "metadata": {},
   "outputs": [],
   "source": [
    "def createModelHoldings(product, counter):\n",
    "    model_holdings = {} \n",
    "    model_id = randint(1, 10000)\n",
    "    for i in range(counter, counter+11): \n",
    "        model_holdings[i]={} \n",
    "        model_holdings[i]['model_id']= model_id\n",
    "        row = product.sample(n=1)\n",
    "        model_holdings[i]['product_id']= str(row['Symbol'].values[0])\n",
    "        model_holdings[i]['percent']= randint(5, 10)\n",
    "        \n",
    "    return model_holdings"
   ]
  },
  {
   "cell_type": "code",
   "execution_count": 26,
   "metadata": {},
   "outputs": [],
   "source": [
    "def createModels(dataset,x):\n",
    "    models = pd.DataFrame(columns=['model_id','product_id','percent']) \n",
    "    j = 1\n",
    "    for i in range(1,x):\n",
    "        model_holdings = createModelHoldings(dataset, j)\n",
    "        df = pd.DataFrame(model_holdings)\n",
    "        df = df.transpose()\n",
    "        \n",
    "        df_percent = df.groupby(['model_id']).sum()\n",
    "        percent = df_percent.iloc[0]['percent']\n",
    "        \n",
    "        model_holdings_rem = {}\n",
    "        model_holdings_rem[j + 11]={}\n",
    "        model_holdings_rem[j + 11]['model_id']= df.model_id.unique().item(0)\n",
    "        model_holdings_rem[j + 11]['product_id']= str(dataset.sample(n=1)['Symbol'].values[0])\n",
    "        model_holdings_rem[j + 11]['percent']= 100 - percent\n",
    "        \n",
    "        j = j + 12\n",
    "        \n",
    "        df1 = pd.DataFrame(model_holdings_rem)\n",
    "        df1 = df1.transpose()\n",
    "        print(df1)\n",
    "        models = models.append(df,sort=True)\n",
    "        models = models.append(df1,sort=True)\n",
    "    return models"
   ]
  },
  {
   "cell_type": "code",
   "execution_count": 28,
   "metadata": {},
   "outputs": [
    {
     "name": "stdout",
     "output_type": "stream",
     "text": [
      "   model_id percent product_id\n",
      "12     3019      20       MELI\n",
      "   model_id percent product_id\n",
      "24     3677      12       PECK\n",
      "   model_id percent product_id\n",
      "36     9414      18       LMFA\n",
      "   model_id percent product_id\n",
      "48     6418      11      LTRPA\n"
     ]
    }
   ],
   "source": [
    "models = createModels(dataset,5)\n",
    "#print(models)\n",
    "# write the csv\n",
    "models.to_csv('model_holdings.csv')"
   ]
  },
  {
   "cell_type": "code",
   "execution_count": null,
   "metadata": {},
   "outputs": [],
   "source": []
  }
 ],
 "metadata": {
  "kernelspec": {
   "display_name": "Python 3",
   "language": "python",
   "name": "python3"
  },
  "language_info": {
   "codemirror_mode": {
    "name": "ipython",
    "version": 3
   },
   "file_extension": ".py",
   "mimetype": "text/x-python",
   "name": "python",
   "nbconvert_exporter": "python",
   "pygments_lexer": "ipython3",
   "version": "3.7.3"
  },
  "toc": {
   "base_numbering": 1,
   "nav_menu": {},
   "number_sections": true,
   "sideBar": true,
   "skip_h1_title": false,
   "title_cell": "Table of Contents",
   "title_sidebar": "Contents",
   "toc_cell": false,
   "toc_position": {},
   "toc_section_display": true,
   "toc_window_display": false
  }
 },
 "nbformat": 4,
 "nbformat_minor": 2
}
