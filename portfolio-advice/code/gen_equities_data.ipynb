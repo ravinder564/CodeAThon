{
 "cells": [
  {
   "cell_type": "code",
   "execution_count": 1,
   "metadata": {},
   "outputs": [],
   "source": [
    "import pandas as pd\n",
    "import random\n",
    "import csv\n",
    "import datetime\n",
    "from pandas_datareader import data"
   ]
  },
  {
   "cell_type": "code",
   "execution_count": 2,
   "metadata": {},
   "outputs": [],
   "source": [
    "dataset = pd.read_csv('companylist.csv')"
   ]
  },
  {
   "cell_type": "code",
   "execution_count": 3,
   "metadata": {},
   "outputs": [],
   "source": [
    "dataset = dataset.loc[:, ~dataset.columns.str.contains('^Unnamed')]"
   ]
  },
  {
   "cell_type": "code",
   "execution_count": 4,
   "metadata": {},
   "outputs": [],
   "source": [
    "dataset.drop(['Summary Quote','LastSale','ADR TSO','IPOyear'],axis=1, inplace=True)"
   ]
  },
  {
   "cell_type": "code",
   "execution_count": 5,
   "metadata": {},
   "outputs": [],
   "source": [
    "dataset = dataset[(dataset['MarketCap'] > 0)]"
   ]
  },
  {
   "cell_type": "code",
   "execution_count": 6,
   "metadata": {},
   "outputs": [],
   "source": [
    "def classifyL2(row):\n",
    "    if (row['MarketCap'] >= 10000000000):\n",
    "        val = \"Large Cap\"\n",
    "    elif (row['MarketCap'] < 10000000000) & (row['MarketCap'] >= 2000000000):\n",
    "        val = \"Mid Cap\"\n",
    "    elif (row['MarketCap'] < 2000000000) & (row['MarketCap'] >= 300000000):\n",
    "        val = \"Small Cap\"\n",
    "    else:\n",
    "        val = \"Micro Cap\"\n",
    "    return val"
   ]
  },
  {
   "cell_type": "code",
   "execution_count": 7,
   "metadata": {},
   "outputs": [],
   "source": [
    "dataset['L2'] = dataset.apply(classifyL2, axis=1)"
   ]
  },
  {
   "cell_type": "code",
   "execution_count": 8,
   "metadata": {},
   "outputs": [
    {
     "data": {
      "text/html": [
       "<div>\n",
       "<style scoped>\n",
       "    .dataframe tbody tr th:only-of-type {\n",
       "        vertical-align: middle;\n",
       "    }\n",
       "\n",
       "    .dataframe tbody tr th {\n",
       "        vertical-align: top;\n",
       "    }\n",
       "\n",
       "    .dataframe thead th {\n",
       "        text-align: right;\n",
       "    }\n",
       "</style>\n",
       "<table border=\"1\" class=\"dataframe\">\n",
       "  <thead>\n",
       "    <tr style=\"text-align: right;\">\n",
       "      <th></th>\n",
       "      <th>Symbol</th>\n",
       "      <th>Name</th>\n",
       "      <th>MarketCap</th>\n",
       "      <th>Sector</th>\n",
       "      <th>Industry</th>\n",
       "      <th>L2</th>\n",
       "    </tr>\n",
       "  </thead>\n",
       "  <tbody>\n",
       "    <tr>\n",
       "      <th>247</th>\n",
       "      <td>AAPL</td>\n",
       "      <td>Apple Inc.</td>\n",
       "      <td>1.397321e+12</td>\n",
       "      <td>Technology</td>\n",
       "      <td>Computer Manufacturing</td>\n",
       "      <td>Large Cap</td>\n",
       "    </tr>\n",
       "  </tbody>\n",
       "</table>\n",
       "</div>"
      ],
      "text/plain": [
       "    Symbol        Name     MarketCap      Sector                Industry  \\\n",
       "247   AAPL  Apple Inc.  1.397321e+12  Technology  Computer Manufacturing   \n",
       "\n",
       "            L2  \n",
       "247  Large Cap  "
      ]
     },
     "execution_count": 8,
     "metadata": {},
     "output_type": "execute_result"
    }
   ],
   "source": [
    "dataset.loc[dataset['Symbol'].isin(['AAPL'])]"
   ]
  },
  {
   "cell_type": "code",
   "execution_count": 9,
   "metadata": {},
   "outputs": [],
   "source": [
    "from yahoo_fin.stock_info import *\n",
    "import numpy as np"
   ]
  },
  {
   "cell_type": "code",
   "execution_count": 10,
   "metadata": {
    "run_control": {
     "marked": true
    }
   },
   "outputs": [],
   "source": [
    "def getClosePrice(row):\n",
    "    price = 0\n",
    "    try:\n",
    "        price = get_live_price(row['Symbol'])\n",
    "    except Exception:\n",
    "        pass\n",
    "    return round(price,4)"
   ]
  },
  {
   "cell_type": "code",
   "execution_count": 11,
   "metadata": {},
   "outputs": [],
   "source": [
    "def computeReturns(row):\n",
    "    return_series = pd.Series([]) \n",
    "    try:\n",
    "        quote = data.get_data_yahoo(row['Symbol'],'01/01/2009',interval='d')\n",
    "        #daily_returns = quote['Adj Close'].pct_change()\n",
    "        #monthly_returns = quote['Adj Close'].resample('M').ffill().pct_change()\n",
    "        yearly_returns = quote['Adj Close'].resample('Y').ffill().pct_change()\n",
    "        \n",
    "        return_series = pd.Series([yearly_returns['2019-12-31'],yearly_returns['2018-12-31'],yearly_returns['2017-12-31'],\n",
    "                   yearly_returns['2016-12-31'],yearly_returns['2015-12-31'],yearly_returns['2014-12-31'],\n",
    "                   yearly_returns['2013-12-31'],yearly_returns['2012-12-31'],yearly_returns['2011-12-31'],\n",
    "                   yearly_returns['2010-12-31']\n",
    "                  ])\n",
    "        return_series = return_series.multiply(100, fill_value=0).round(2)\n",
    "        #print(return_series)\n",
    "    except Exception:\n",
    "        pass\n",
    "    return return_series"
   ]
  },
  {
   "cell_type": "code",
   "execution_count": 12,
   "metadata": {},
   "outputs": [],
   "source": [
    "def computeVolatility(row): \n",
    "    volatility = 0  \n",
    "    try:\n",
    "        quote = data.get_data_yahoo(row['Symbol'],'01/01/2019',interval='d')\n",
    "       \n",
    "        #Compute logarithmic returns\n",
    "        quote['Log_Ret'] = np.log(quote['Adj Close'] / quote['Adj Close'].shift(1))\n",
    "\n",
    "        # Compute Volatility using the pandas rolling standard deviation function.  Consider 252 trading days in a year\n",
    "        quote['Volatility'] = quote['Log_Ret'].rolling(252).std() * np.sqrt(252)\n",
    "       \n",
    "        volatility = quote['Volatility'].iloc[-1]\n",
    "        volatility = volatility * 100\n",
    "    except Exception:\n",
    "        pass\n",
    "    return round(volatility,2)"
   ]
  },
  {
   "cell_type": "code",
   "execution_count": 13,
   "metadata": {},
   "outputs": [],
   "source": [
    "#computeReturns()"
   ]
  },
  {
   "cell_type": "code",
   "execution_count": 14,
   "metadata": {
    "scrolled": false
   },
   "outputs": [],
   "source": [
    "dataset['close_price'] = dataset.apply(getClosePrice,axis=1)"
   ]
  },
  {
   "cell_type": "code",
   "execution_count": 15,
   "metadata": {
    "scrolled": false
   },
   "outputs": [],
   "source": [
    "dataset['risk_score'] = dataset.apply(computeVolatility,axis=1)"
   ]
  },
  {
   "cell_type": "code",
   "execution_count": 16,
   "metadata": {
    "scrolled": false
   },
   "outputs": [],
   "source": [
    "dataset[['return_2019', 'return_2018', 'return_2017','return_2016', 'return_2015', 'return_2014','return_2013', 'return_2012', 'return_2011','return_2010']] = dataset.apply(computeReturns, axis=1)"
   ]
  },
  {
   "cell_type": "code",
   "execution_count": 17,
   "metadata": {},
   "outputs": [],
   "source": [
    "dataset.to_csv('equities.csv')"
   ]
  },
  {
   "cell_type": "code",
   "execution_count": null,
   "metadata": {},
   "outputs": [],
   "source": []
  }
 ],
 "metadata": {
  "kernelspec": {
   "display_name": "Python 3",
   "language": "python",
   "name": "python3"
  },
  "language_info": {
   "codemirror_mode": {
    "name": "ipython",
    "version": 3
   },
   "file_extension": ".py",
   "mimetype": "text/x-python",
   "name": "python",
   "nbconvert_exporter": "python",
   "pygments_lexer": "ipython3",
   "version": "3.7.3"
  },
  "toc": {
   "base_numbering": 1,
   "nav_menu": {},
   "number_sections": true,
   "sideBar": true,
   "skip_h1_title": false,
   "title_cell": "Table of Contents",
   "title_sidebar": "Contents",
   "toc_cell": false,
   "toc_position": {},
   "toc_section_display": true,
   "toc_window_display": false
  }
 },
 "nbformat": 4,
 "nbformat_minor": 2
}
