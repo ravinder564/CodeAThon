{
 "cells": [
  {
   "cell_type": "code",
   "execution_count": 1,
   "metadata": {},
   "outputs": [],
   "source": [
    "import pandas as pd\n",
    "import numpy as np\n",
    "from scipy.spatial.distance import cosine\n",
    "from scipy.spatial.distance import hamming"
   ]
  },
  {
   "cell_type": "code",
   "execution_count": 2,
   "metadata": {},
   "outputs": [],
   "source": [
    "models = pd.read_csv('models.csv', index_col='model_id')\n",
    "products = pd.read_csv('equities.csv',index_col='Symbol')\n",
    "holdings = pd.read_csv('model_holdings.csv', index_col=0)"
   ]
  },
  {
   "cell_type": "code",
   "execution_count": 3,
   "metadata": {},
   "outputs": [],
   "source": [
    "df = models.drop(['account_name','model_name'],axis=1)"
   ]
  },
  {
   "cell_type": "code",
   "execution_count": 4,
   "metadata": {},
   "outputs": [],
   "source": [
    "df = df.drop(df.columns[0], axis=1)"
   ]
  },
  {
   "cell_type": "code",
   "execution_count": 5,
   "metadata": {},
   "outputs": [],
   "source": [
    "# Check if any model has null values in any column\n",
    "df1 = df[df.isnull().any(axis=1)]"
   ]
  },
  {
   "cell_type": "code",
   "execution_count": 6,
   "metadata": {},
   "outputs": [],
   "source": [
    "# drop the models which have null values in any column\n",
    "df = df.dropna()"
   ]
  },
  {
   "cell_type": "code",
   "execution_count": 7,
   "metadata": {},
   "outputs": [],
   "source": [
    "#round the volatility column value\n",
    "df.volatility = df.volatility.round(2)"
   ]
  },
  {
   "cell_type": "code",
   "execution_count": 8,
   "metadata": {},
   "outputs": [],
   "source": [
    "model_json = '{\"inv_horizon\":2.0,\"inv_obj_least_imp\":0.0,\"inv_obj_most_imp\":2.0,\"inv_obj_some_imp\":0.0,\"inv_obj_very_imp\":4.0,\"investment_amt\":745791.0,\"liquidity_need\":2.0,\"primary_fin_need\":7.0,\"risk_profile\":2.0,\"risk_tolerance\":0.0,\"volatility\":13.94}'"
   ]
  },
  {
   "cell_type": "code",
   "execution_count": 9,
   "metadata": {
    "scrolled": false
   },
   "outputs": [],
   "source": [
    "def findSimilarModel(model_json, df):\n",
    "    input_model = pd.read_json(model_json, typ='series')\n",
    "    input_model_df = input_model.to_frame().transpose()\n",
    "    prev_similarity = 0\n",
    "    final_ind = 0\n",
    "    model_id = 0\n",
    "    for i in range(len(df)) : \n",
    "        similarity = cosine(input_model_df.values,df.iloc[i,:])\n",
    "        if(similarity <= prev_similarity):\n",
    "            prev_similarity = similarity\n",
    "            model_id = i\n",
    "    return model_id\n",
    "\n"
   ]
  },
  {
   "cell_type": "code",
   "execution_count": 10,
   "metadata": {},
   "outputs": [],
   "source": [
    "products = products.drop(products.columns[0], axis=1)"
   ]
  },
  {
   "cell_type": "code",
   "execution_count": 11,
   "metadata": {},
   "outputs": [],
   "source": [
    "def productMeta(symbol):\n",
    "    symbol = symbol\n",
    "    name = products.at[symbol,\"Name\"]\n",
    "    sector = products.at[symbol,\"Sector\"]\n",
    "    close_price = products.at[symbol,\"close_price\"]\n",
    "    risk_score = products.at[symbol,\"risk_score\"]\n",
    "    L2 = products.at[symbol,\"L2\"]\n",
    "    return symbol, name, sector, close_price, risk_score, L2"
   ]
  },
  {
   "cell_type": "code",
   "execution_count": 12,
   "metadata": {},
   "outputs": [
    {
     "data": {
      "text/plain": [
       "('AAPL', 'Apple Inc.', 'Technology', 308.95, 23.69, 'Large Cap')"
      ]
     },
     "execution_count": 12,
     "metadata": {},
     "output_type": "execute_result"
    }
   ],
   "source": [
    "productMeta('AAPL')"
   ]
  },
  {
   "cell_type": "code",
   "execution_count": 13,
   "metadata": {},
   "outputs": [],
   "source": [
    "def favProducts(model_id, N):\n",
    "    productRatings = holdings[holdings['model_id']==model_id]\n",
    "    sortedRatings = pd.DataFrame.sort_values(productRatings,['percent'], ascending=[0])[:N]\n",
    "    print(sortedRatings)\n",
    "    sortedRatings['title'] = sortedRatings[\"product_id\"].apply(productMeta)\n",
    "    return sortedRatings"
   ]
  },
  {
   "cell_type": "code",
   "execution_count": 14,
   "metadata": {},
   "outputs": [],
   "source": [
    "modelProductRatingMatrix = pd.pivot_table(holdings, values='percent', index=['model_id'],columns=['product_id'])"
   ]
  },
  {
   "cell_type": "code",
   "execution_count": 15,
   "metadata": {},
   "outputs": [],
   "source": [
    "def distance(model1, model2):\n",
    "    try:\n",
    "        model1Ratings = modelProductRatingMatrix.transpose()[model1]\n",
    "        #print(model1Ratings)\n",
    "        model2Ratings = modelProductRatingMatrix.transpose()[model2]\n",
    "        #print(model1Ratings)\n",
    "        distance = hamming(model1Ratings,model2Ratings)\n",
    "    except: \n",
    "        distance = np.NaN\n",
    "    return distance"
   ]
  },
  {
   "cell_type": "code",
   "execution_count": 21,
   "metadata": {},
   "outputs": [],
   "source": [
    "def nearestNeighbors(model_id, K=10):\n",
    "    allModels = pd.DataFrame(modelProductRatingMatrix.index)\n",
    "    allModels = allModels[allModels.model_id != model_id]\n",
    "    allModels['distance'] = allModels['model_id'].apply(lambda x: distance(model_id, x))\n",
    "    KnearestModels = allModels.sort_values(['distance'], ascending=True).index[:K]\n",
    "    print(KnearestModels)\n",
    "    return KnearestModels\n"
   ]
  },
  {
   "cell_type": "code",
   "execution_count": 22,
   "metadata": {},
   "outputs": [],
   "source": [
    "def topNProducts(model_json, N=10):\n",
    "    model_id = findSimilarModel(model_json, df)\n",
    "    KnearestModels = nearestNeighbors(model_id)\n",
    "    NNRatings = modelProductRatingMatrix[modelProductRatingMatrix.index.isin(KnearestModels)]\n",
    "    avgRating = NNRatings.apply(np.nanmean).dropna()\n",
    "    topNProducts = avgRating.sort_values(ascending=False).index[:N]\n",
    "    return pd.Series(topNProducts)"
   ]
  },
  {
   "cell_type": "code",
   "execution_count": 25,
   "metadata": {},
   "outputs": [
    {
     "name": "stdout",
     "output_type": "stream",
     "text": [
      "Int64Index([0, 1, 2, 3, 4, 5, 6, 7, 8, 9], dtype='int64')\n",
      "[\"UEIC\",\"PRNB\",\"RGCO\",\"JAZZ\",\"ZION\",\"HBAN\",\"MTC\",\"GRIN\",\"NXGN\",\"SEEL\"]\n"
     ]
    }
   ],
   "source": [
    "result = topNProducts(model_json,10)\n",
    "result_json = result.to_json(orient='records')\n",
    "print(result_json)"
   ]
  },
  {
   "cell_type": "code",
   "execution_count": 19,
   "metadata": {},
   "outputs": [
    {
     "name": "stdout",
     "output_type": "stream",
     "text": [
      "     model_id  percent product_id\n",
      "252        21       17       FUSB\n",
      "243        21       10       PRFZ\n",
      "250        21       10       KVHI\n",
      "246        21        9       AUDC\n",
      "247        21        9       NXGN\n",
      "249        21        8       EXPD\n",
      "248        21        7       LIVN\n",
      "251        21        7       MATW\n",
      "242        21        6       MLHR\n",
      "244        21        6       RMCF\n"
     ]
    },
    {
     "data": {
      "text/html": [
       "<div>\n",
       "<style scoped>\n",
       "    .dataframe tbody tr th:only-of-type {\n",
       "        vertical-align: middle;\n",
       "    }\n",
       "\n",
       "    .dataframe tbody tr th {\n",
       "        vertical-align: top;\n",
       "    }\n",
       "\n",
       "    .dataframe thead th {\n",
       "        text-align: right;\n",
       "    }\n",
       "</style>\n",
       "<table border=\"1\" class=\"dataframe\">\n",
       "  <thead>\n",
       "    <tr style=\"text-align: right;\">\n",
       "      <th></th>\n",
       "      <th>model_id</th>\n",
       "      <th>percent</th>\n",
       "      <th>product_id</th>\n",
       "      <th>title</th>\n",
       "    </tr>\n",
       "  </thead>\n",
       "  <tbody>\n",
       "    <tr>\n",
       "      <td>252</td>\n",
       "      <td>21</td>\n",
       "      <td>17</td>\n",
       "      <td>FUSB</td>\n",
       "      <td>(FUSB, First US Bancshares, Inc., Finance, 10....</td>\n",
       "    </tr>\n",
       "    <tr>\n",
       "      <td>243</td>\n",
       "      <td>21</td>\n",
       "      <td>10</td>\n",
       "      <td>PRFZ</td>\n",
       "      <td>(PRFZ, Invesco FTSE RAFI US 1500 Small-Mid ETF...</td>\n",
       "    </tr>\n",
       "    <tr>\n",
       "      <td>250</td>\n",
       "      <td>21</td>\n",
       "      <td>10</td>\n",
       "      <td>KVHI</td>\n",
       "      <td>(KVHI, KVH Industries, Inc., Technology, 10.88...</td>\n",
       "    </tr>\n",
       "    <tr>\n",
       "      <td>246</td>\n",
       "      <td>21</td>\n",
       "      <td>9</td>\n",
       "      <td>AUDC</td>\n",
       "      <td>(AUDC, AudioCodes Ltd., Public Utilities, 26.6...</td>\n",
       "    </tr>\n",
       "    <tr>\n",
       "      <td>247</td>\n",
       "      <td>21</td>\n",
       "      <td>9</td>\n",
       "      <td>NXGN</td>\n",
       "      <td>(NXGN, NextGen Healthcare, Inc., Technology, 1...</td>\n",
       "    </tr>\n",
       "    <tr>\n",
       "      <td>249</td>\n",
       "      <td>21</td>\n",
       "      <td>8</td>\n",
       "      <td>EXPD</td>\n",
       "      <td>(EXPD, Expeditors International of Washington,...</td>\n",
       "    </tr>\n",
       "    <tr>\n",
       "      <td>248</td>\n",
       "      <td>21</td>\n",
       "      <td>7</td>\n",
       "      <td>LIVN</td>\n",
       "      <td>(LIVN, LivaNova PLC, Health Care, 69.69, 43.08...</td>\n",
       "    </tr>\n",
       "    <tr>\n",
       "      <td>251</td>\n",
       "      <td>21</td>\n",
       "      <td>7</td>\n",
       "      <td>MATW</td>\n",
       "      <td>(MATW, Matthews International Corporation, Cap...</td>\n",
       "    </tr>\n",
       "    <tr>\n",
       "      <td>242</td>\n",
       "      <td>21</td>\n",
       "      <td>6</td>\n",
       "      <td>MLHR</td>\n",
       "      <td>(MLHR, Herman Miller, Inc., Consumer Durables,...</td>\n",
       "    </tr>\n",
       "    <tr>\n",
       "      <td>244</td>\n",
       "      <td>21</td>\n",
       "      <td>6</td>\n",
       "      <td>RMCF</td>\n",
       "      <td>(RMCF, Rocky Mountain Chocolate Factory, Inc.,...</td>\n",
       "    </tr>\n",
       "  </tbody>\n",
       "</table>\n",
       "</div>"
      ],
      "text/plain": [
       "     model_id  percent product_id  \\\n",
       "252        21       17       FUSB   \n",
       "243        21       10       PRFZ   \n",
       "250        21       10       KVHI   \n",
       "246        21        9       AUDC   \n",
       "247        21        9       NXGN   \n",
       "249        21        8       EXPD   \n",
       "248        21        7       LIVN   \n",
       "251        21        7       MATW   \n",
       "242        21        6       MLHR   \n",
       "244        21        6       RMCF   \n",
       "\n",
       "                                                 title  \n",
       "252  (FUSB, First US Bancshares, Inc., Finance, 10....  \n",
       "243  (PRFZ, Invesco FTSE RAFI US 1500 Small-Mid ETF...  \n",
       "250  (KVHI, KVH Industries, Inc., Technology, 10.88...  \n",
       "246  (AUDC, AudioCodes Ltd., Public Utilities, 26.6...  \n",
       "247  (NXGN, NextGen Healthcare, Inc., Technology, 1...  \n",
       "249  (EXPD, Expeditors International of Washington,...  \n",
       "248  (LIVN, LivaNova PLC, Health Care, 69.69, 43.08...  \n",
       "251  (MATW, Matthews International Corporation, Cap...  \n",
       "242  (MLHR, Herman Miller, Inc., Consumer Durables,...  \n",
       "244  (RMCF, Rocky Mountain Chocolate Factory, Inc.,...  "
      ]
     },
     "execution_count": 19,
     "metadata": {},
     "output_type": "execute_result"
    }
   ],
   "source": [
    "favProducts(21,10)"
   ]
  },
  {
   "cell_type": "code",
   "execution_count": 20,
   "metadata": {},
   "outputs": [
    {
     "ename": "KeyError",
     "evalue": "21",
     "output_type": "error",
     "traceback": [
      "\u001b[1;31m---------------------------------------------------------------------------\u001b[0m",
      "\u001b[1;31mKeyError\u001b[0m                                  Traceback (most recent call last)",
      "\u001b[1;32mC:\\ProgramData\\Anaconda3\\lib\\site-packages\\pandas\\core\\indexes\\base.py\u001b[0m in \u001b[0;36mget_loc\u001b[1;34m(self, key, method, tolerance)\u001b[0m\n\u001b[0;32m   2896\u001b[0m             \u001b[1;32mtry\u001b[0m\u001b[1;33m:\u001b[0m\u001b[1;33m\u001b[0m\u001b[1;33m\u001b[0m\u001b[0m\n\u001b[1;32m-> 2897\u001b[1;33m                 \u001b[1;32mreturn\u001b[0m \u001b[0mself\u001b[0m\u001b[1;33m.\u001b[0m\u001b[0m_engine\u001b[0m\u001b[1;33m.\u001b[0m\u001b[0mget_loc\u001b[0m\u001b[1;33m(\u001b[0m\u001b[0mkey\u001b[0m\u001b[1;33m)\u001b[0m\u001b[1;33m\u001b[0m\u001b[1;33m\u001b[0m\u001b[0m\n\u001b[0m\u001b[0;32m   2898\u001b[0m             \u001b[1;32mexcept\u001b[0m \u001b[0mKeyError\u001b[0m\u001b[1;33m:\u001b[0m\u001b[1;33m\u001b[0m\u001b[1;33m\u001b[0m\u001b[0m\n",
      "\u001b[1;32mpandas\\_libs\\index.pyx\u001b[0m in \u001b[0;36mpandas._libs.index.IndexEngine.get_loc\u001b[1;34m()\u001b[0m\n",
      "\u001b[1;32mpandas\\_libs\\index.pyx\u001b[0m in \u001b[0;36mpandas._libs.index.IndexEngine.get_loc\u001b[1;34m()\u001b[0m\n",
      "\u001b[1;32mpandas\\_libs\\hashtable_class_helper.pxi\u001b[0m in \u001b[0;36mpandas._libs.hashtable.PyObjectHashTable.get_item\u001b[1;34m()\u001b[0m\n",
      "\u001b[1;32mpandas\\_libs\\hashtable_class_helper.pxi\u001b[0m in \u001b[0;36mpandas._libs.hashtable.PyObjectHashTable.get_item\u001b[1;34m()\u001b[0m\n",
      "\u001b[1;31mKeyError\u001b[0m: 21",
      "\nDuring handling of the above exception, another exception occurred:\n",
      "\u001b[1;31mKeyError\u001b[0m                                  Traceback (most recent call last)",
      "\u001b[1;32m<ipython-input-20-0ac67c6f69bc>\u001b[0m in \u001b[0;36m<module>\u001b[1;34m\u001b[0m\n\u001b[1;32m----> 1\u001b[1;33m \u001b[0mmodels\u001b[0m\u001b[1;33m[\u001b[0m\u001b[1;36m21\u001b[0m\u001b[1;33m]\u001b[0m\u001b[1;33m\u001b[0m\u001b[1;33m\u001b[0m\u001b[0m\n\u001b[0m",
      "\u001b[1;32mC:\\ProgramData\\Anaconda3\\lib\\site-packages\\pandas\\core\\frame.py\u001b[0m in \u001b[0;36m__getitem__\u001b[1;34m(self, key)\u001b[0m\n\u001b[0;32m   2978\u001b[0m             \u001b[1;32mif\u001b[0m \u001b[0mself\u001b[0m\u001b[1;33m.\u001b[0m\u001b[0mcolumns\u001b[0m\u001b[1;33m.\u001b[0m\u001b[0mnlevels\u001b[0m \u001b[1;33m>\u001b[0m \u001b[1;36m1\u001b[0m\u001b[1;33m:\u001b[0m\u001b[1;33m\u001b[0m\u001b[1;33m\u001b[0m\u001b[0m\n\u001b[0;32m   2979\u001b[0m                 \u001b[1;32mreturn\u001b[0m \u001b[0mself\u001b[0m\u001b[1;33m.\u001b[0m\u001b[0m_getitem_multilevel\u001b[0m\u001b[1;33m(\u001b[0m\u001b[0mkey\u001b[0m\u001b[1;33m)\u001b[0m\u001b[1;33m\u001b[0m\u001b[1;33m\u001b[0m\u001b[0m\n\u001b[1;32m-> 2980\u001b[1;33m             \u001b[0mindexer\u001b[0m \u001b[1;33m=\u001b[0m \u001b[0mself\u001b[0m\u001b[1;33m.\u001b[0m\u001b[0mcolumns\u001b[0m\u001b[1;33m.\u001b[0m\u001b[0mget_loc\u001b[0m\u001b[1;33m(\u001b[0m\u001b[0mkey\u001b[0m\u001b[1;33m)\u001b[0m\u001b[1;33m\u001b[0m\u001b[1;33m\u001b[0m\u001b[0m\n\u001b[0m\u001b[0;32m   2981\u001b[0m             \u001b[1;32mif\u001b[0m \u001b[0mis_integer\u001b[0m\u001b[1;33m(\u001b[0m\u001b[0mindexer\u001b[0m\u001b[1;33m)\u001b[0m\u001b[1;33m:\u001b[0m\u001b[1;33m\u001b[0m\u001b[1;33m\u001b[0m\u001b[0m\n\u001b[0;32m   2982\u001b[0m                 \u001b[0mindexer\u001b[0m \u001b[1;33m=\u001b[0m \u001b[1;33m[\u001b[0m\u001b[0mindexer\u001b[0m\u001b[1;33m]\u001b[0m\u001b[1;33m\u001b[0m\u001b[1;33m\u001b[0m\u001b[0m\n",
      "\u001b[1;32mC:\\ProgramData\\Anaconda3\\lib\\site-packages\\pandas\\core\\indexes\\base.py\u001b[0m in \u001b[0;36mget_loc\u001b[1;34m(self, key, method, tolerance)\u001b[0m\n\u001b[0;32m   2897\u001b[0m                 \u001b[1;32mreturn\u001b[0m \u001b[0mself\u001b[0m\u001b[1;33m.\u001b[0m\u001b[0m_engine\u001b[0m\u001b[1;33m.\u001b[0m\u001b[0mget_loc\u001b[0m\u001b[1;33m(\u001b[0m\u001b[0mkey\u001b[0m\u001b[1;33m)\u001b[0m\u001b[1;33m\u001b[0m\u001b[1;33m\u001b[0m\u001b[0m\n\u001b[0;32m   2898\u001b[0m             \u001b[1;32mexcept\u001b[0m \u001b[0mKeyError\u001b[0m\u001b[1;33m:\u001b[0m\u001b[1;33m\u001b[0m\u001b[1;33m\u001b[0m\u001b[0m\n\u001b[1;32m-> 2899\u001b[1;33m                 \u001b[1;32mreturn\u001b[0m \u001b[0mself\u001b[0m\u001b[1;33m.\u001b[0m\u001b[0m_engine\u001b[0m\u001b[1;33m.\u001b[0m\u001b[0mget_loc\u001b[0m\u001b[1;33m(\u001b[0m\u001b[0mself\u001b[0m\u001b[1;33m.\u001b[0m\u001b[0m_maybe_cast_indexer\u001b[0m\u001b[1;33m(\u001b[0m\u001b[0mkey\u001b[0m\u001b[1;33m)\u001b[0m\u001b[1;33m)\u001b[0m\u001b[1;33m\u001b[0m\u001b[1;33m\u001b[0m\u001b[0m\n\u001b[0m\u001b[0;32m   2900\u001b[0m         \u001b[0mindexer\u001b[0m \u001b[1;33m=\u001b[0m \u001b[0mself\u001b[0m\u001b[1;33m.\u001b[0m\u001b[0mget_indexer\u001b[0m\u001b[1;33m(\u001b[0m\u001b[1;33m[\u001b[0m\u001b[0mkey\u001b[0m\u001b[1;33m]\u001b[0m\u001b[1;33m,\u001b[0m \u001b[0mmethod\u001b[0m\u001b[1;33m=\u001b[0m\u001b[0mmethod\u001b[0m\u001b[1;33m,\u001b[0m \u001b[0mtolerance\u001b[0m\u001b[1;33m=\u001b[0m\u001b[0mtolerance\u001b[0m\u001b[1;33m)\u001b[0m\u001b[1;33m\u001b[0m\u001b[1;33m\u001b[0m\u001b[0m\n\u001b[0;32m   2901\u001b[0m         \u001b[1;32mif\u001b[0m \u001b[0mindexer\u001b[0m\u001b[1;33m.\u001b[0m\u001b[0mndim\u001b[0m \u001b[1;33m>\u001b[0m \u001b[1;36m1\u001b[0m \u001b[1;32mor\u001b[0m \u001b[0mindexer\u001b[0m\u001b[1;33m.\u001b[0m\u001b[0msize\u001b[0m \u001b[1;33m>\u001b[0m \u001b[1;36m1\u001b[0m\u001b[1;33m:\u001b[0m\u001b[1;33m\u001b[0m\u001b[1;33m\u001b[0m\u001b[0m\n",
      "\u001b[1;32mpandas\\_libs\\index.pyx\u001b[0m in \u001b[0;36mpandas._libs.index.IndexEngine.get_loc\u001b[1;34m()\u001b[0m\n",
      "\u001b[1;32mpandas\\_libs\\index.pyx\u001b[0m in \u001b[0;36mpandas._libs.index.IndexEngine.get_loc\u001b[1;34m()\u001b[0m\n",
      "\u001b[1;32mpandas\\_libs\\hashtable_class_helper.pxi\u001b[0m in \u001b[0;36mpandas._libs.hashtable.PyObjectHashTable.get_item\u001b[1;34m()\u001b[0m\n",
      "\u001b[1;32mpandas\\_libs\\hashtable_class_helper.pxi\u001b[0m in \u001b[0;36mpandas._libs.hashtable.PyObjectHashTable.get_item\u001b[1;34m()\u001b[0m\n",
      "\u001b[1;31mKeyError\u001b[0m: 21"
     ]
    }
   ],
   "source": [
    "models"
   ]
  },
  {
   "cell_type": "code",
   "execution_count": null,
   "metadata": {},
   "outputs": [],
   "source": []
  }
 ],
 "metadata": {
  "kernelspec": {
   "display_name": "Python 3",
   "language": "python",
   "name": "python3"
  },
  "language_info": {
   "codemirror_mode": {
    "name": "ipython",
    "version": 3
   },
   "file_extension": ".py",
   "mimetype": "text/x-python",
   "name": "python",
   "nbconvert_exporter": "python",
   "pygments_lexer": "ipython3",
   "version": "3.7.4"
  },
  "toc": {
   "base_numbering": 1,
   "nav_menu": {},
   "number_sections": true,
   "sideBar": true,
   "skip_h1_title": false,
   "title_cell": "Table of Contents",
   "title_sidebar": "Contents",
   "toc_cell": false,
   "toc_position": {},
   "toc_section_display": true,
   "toc_window_display": false
  }
 },
 "nbformat": 4,
 "nbformat_minor": 2
}
